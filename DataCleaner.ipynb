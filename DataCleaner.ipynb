{
 "cells": [
  {
   "cell_type": "code",
   "execution_count": 3,
   "metadata": {},
   "outputs": [],
   "source": [
    "import json\n",
    "import string\n",
    "import pandas as pd\n",
    "\n",
    "from pathlib import Path\n",
    "from itertools import chain\n",
    "from collections import Counter\n",
    "\n",
    "import nltk\n",
    "from nltk.corpus import stopwords\n",
    "from nltk.stem import WordNetLemmatizer"
   ]
  },
  {
   "cell_type": "code",
   "execution_count": 4,
   "metadata": {},
   "outputs": [],
   "source": [
    "# Set constants\n",
    "\n",
    "PATH = \"data/\"\n",
    "CLEAN_AND_LEMMATIZE = False"
   ]
  },
  {
   "cell_type": "code",
   "execution_count": 23,
   "metadata": {},
   "outputs": [
    {
     "name": "stdout",
     "output_type": "stream",
     "text": [
      "Retrieving articles from disk...\n",
      "                                          Article_Title  \\\n",
      "0     If anti-Sanders Democrats were serious, they’d...   \n",
      "1     The Japanese prime minister is going to Pearl ...   \n",
      "2     The best argument for each of the 2020 Democra...   \n",
      "3     Instagram found a new place to show you ads: I...   \n",
      "4                           My Week Without Apple Watch   \n",
      "...                                                 ...   \n",
      "6808  EpiPen Price Hikes Reportedly Added Millions T...   \n",
      "6809  The First Year Home May Be Most Dangerous For ...   \n",
      "6810  Mistakes That Fueled Ebola Spread Are Preventi...   \n",
      "6811              Taylor Spear's GPS Guide On Self Care   \n",
      "6812  Hacktivists Couldn't Have Pulled Off Cyber Att...   \n",
      "\n",
      "                                           Article_Text         Publish_Date  \\\n",
      "0     Democrats opposed to Sen. Bernie Sanders want ...  2020-02-29 20:00:00   \n",
      "1     About six months ago, President Obama became t...  2016-12-27 14:20:01   \n",
      "2     Share All sharing options for: The best argume...  2020-02-12 13:58:00   \n",
      "3     Uncovering and explaining how our digital worl...  2017-01-11 09:05:01   \n",
      "4     A version of this essay was originally publish...  2015-07-08 11:58:00   \n",
      "...                                                 ...                  ...   \n",
      "6808  Mylan NV’s price hikes on EpiPens have added m...  2016-10-28 10:30:52   \n",
      "6809  MivPiv via Getty Images According to a new stu...  2016-10-28 15:44:06   \n",
      "6810  By Emma Farge\\nDAKAR, March 23 (Reuters) - Lap...  2015-03-23 16:01:00   \n",
      "6811  Feeling stressed? You're not alone. We all hav...  2016-02-24 17:02:14   \n",
      "6812  SAN FRANCISCO (Reuters) - The perpetrators of ...  2016-02-24 14:38:38   \n",
      "\n",
      "            Source Language  Label  \n",
      "0          vox.com       en      0  \n",
      "1          vox.com       en      0  \n",
      "2          vox.com       en      0  \n",
      "3          vox.com       en      0  \n",
      "4          vox.com       en      0  \n",
      "...            ...      ...    ...  \n",
      "6808  huffpost.com       en      0  \n",
      "6809  huffpost.com       en      0  \n",
      "6810  huffpost.com       en      0  \n",
      "6811  huffpost.com       en      0  \n",
      "6812  huffpost.com       en      0  \n",
      "\n",
      "[6813 rows x 6 columns]\n"
     ]
    }
   ],
   "source": [
    "# Retrieve articles from disk\n",
    "\n",
    "print(\"Retrieving articles from disk...\")\n",
    "dataset = pd.read_csv(PATH + \"dataset.csv\")\n",
    "print(dataset)"
   ]
  },
  {
   "cell_type": "code",
   "execution_count": 24,
   "metadata": {},
   "outputs": [
    {
     "name": "stderr",
     "output_type": "stream",
     "text": [
      "[nltk_data] Downloading package stopwords to\n",
      "[nltk_data]     /home/student/nltk_data...\n",
      "[nltk_data]   Package stopwords is already up-to-date!\n",
      "[nltk_data] Downloading package wordnet to /home/student/nltk_data...\n",
      "[nltk_data]   Package wordnet is already up-to-date!\n"
     ]
    },
    {
     "data": {
      "text/plain": [
       "True"
      ]
     },
     "execution_count": 24,
     "metadata": {},
     "output_type": "execute_result"
    }
   ],
   "source": [
    "# Download stop words and lemmatization word net\n",
    "\n",
    "nltk.download(\"stopwords\")\n",
    "nltk.download(\"wordnet\")"
   ]
  },
  {
   "cell_type": "code",
   "execution_count": 25,
   "metadata": {},
   "outputs": [
    {
     "name": "stdout",
     "output_type": "stream",
     "text": [
      "Cleaning articles...\n",
      "                                          Article_Title  \\\n",
      "0     If anti-Sanders Democrats were serious, they’d...   \n",
      "1     The Japanese prime minister is going to Pearl ...   \n",
      "2     The best argument for each of the 2020 Democra...   \n",
      "3     Instagram found a new place to show you ads: I...   \n",
      "4                           My Week Without Apple Watch   \n",
      "...                                                 ...   \n",
      "6808  EpiPen Price Hikes Reportedly Added Millions T...   \n",
      "6809  The First Year Home May Be Most Dangerous For ...   \n",
      "6810  Mistakes That Fueled Ebola Spread Are Preventi...   \n",
      "6811              Taylor Spear's GPS Guide On Self Care   \n",
      "6812  Hacktivists Couldn't Have Pulled Off Cyber Att...   \n",
      "\n",
      "                                           Article_Text         Publish_Date  \\\n",
      "0     democrats opposed to sen bernie sanders want y...  2020-02-29 20:00:00   \n",
      "1     about six months ago president obama became th...  2016-12-27 14:20:01   \n",
      "2     share all sharing options for the best argumen...  2020-02-12 13:58:00   \n",
      "3     uncovering and explaining how our digital worl...  2017-01-11 09:05:01   \n",
      "4     a version of this essay was originally publish...  2015-07-08 11:58:00   \n",
      "...                                                 ...                  ...   \n",
      "6808  mylan nvs price hikes on epipens have added mi...  2016-10-28 10:30:52   \n",
      "6809  mivpiv via getty images according to a new stu...  2016-10-28 15:44:06   \n",
      "6810  by emma fargedakar march  reuters  lapses that...  2015-03-23 16:01:00   \n",
      "6811  feeling stressed youre not alone we all have a...  2016-02-24 17:02:14   \n",
      "6812  san francisco reuters  the perpetrators of the...  2016-02-24 14:38:38   \n",
      "\n",
      "            Source Language  Label  \n",
      "0          vox.com       en      0  \n",
      "1          vox.com       en      0  \n",
      "2          vox.com       en      0  \n",
      "3          vox.com       en      0  \n",
      "4          vox.com       en      0  \n",
      "...            ...      ...    ...  \n",
      "6808  huffpost.com       en      0  \n",
      "6809  huffpost.com       en      0  \n",
      "6810  huffpost.com       en      0  \n",
      "6811  huffpost.com       en      0  \n",
      "6812  huffpost.com       en      0  \n",
      "\n",
      "[6813 rows x 6 columns]\n"
     ]
    }
   ],
   "source": [
    "# Clean article contents\n",
    "\n",
    "punctuation = string.punctuation + \"“”‘’0123456789―—–…\\n\"\n",
    "stop_words = set(stopwords.words(\"english\"))\n",
    "\n",
    "def clean_article(article):\n",
    "    # Lowercase the article\n",
    "    article = article.lower()\n",
    "        \n",
    "    # Remove punctuation\n",
    "#     article = article.translate(str.maketrans(' ', ' ', '—–'))\n",
    "#     article = article.translate(str.maketrans('', '', \"—–\"))\n",
    "    article = article.translate(str.maketrans(' ', ' ', punctuation))\n",
    "        \n",
    "    if CLEAN_AND_LEMMATIZE:\n",
    "        # Remove stop words\n",
    "        words = article.split()\n",
    "        words = [word for word in words if not word in stop_words]\n",
    "            \n",
    "        # Apply lemmatization\n",
    "        lemmatizer = WordNetLemmatizer()\n",
    "        words = [lemmatizer.lemmatize(word) for word in words]\n",
    "        article = \" \".join(words)\n",
    "            \n",
    "    return article\n",
    "\n",
    "print(\"Cleaning articles...\")\n",
    "dataset_clean = dataset\n",
    "dataset_clean[\"Article_Text\"] = dataset_clean[\"Article_Text\"].apply(clean_article)\n",
    "print(dataset_clean)"
   ]
  },
  {
   "cell_type": "code",
   "execution_count": 26,
   "metadata": {},
   "outputs": [
    {
     "name": "stdout",
     "output_type": "stream",
     "text": [
      "Saving dataset to disk\n",
      "Done\n"
     ]
    }
   ],
   "source": [
    "# Save dataset to disk\n",
    "\n",
    "print(\"Saving dataset to disk\")\n",
    "Path(PATH).mkdir(parents=True, exist_ok=True)\n",
    "dataset_clean.to_csv(PATH + \"dataset_clean.csv\", index=False)\n",
    "print(\"Done\")"
   ]
  },
  {
   "cell_type": "code",
   "execution_count": null,
   "metadata": {},
   "outputs": [],
   "source": []
  }
 ],
 "metadata": {
  "kernelspec": {
   "display_name": "Python 3",
   "language": "python",
   "name": "python3"
  },
  "language_info": {
   "codemirror_mode": {
    "name": "ipython",
    "version": 3
   },
   "file_extension": ".py",
   "mimetype": "text/x-python",
   "name": "python",
   "nbconvert_exporter": "python",
   "pygments_lexer": "ipython3",
   "version": "3.6.10"
  }
 },
 "nbformat": 4,
 "nbformat_minor": 4
}
