{
 "cells": [
  {
   "cell_type": "code",
   "execution_count": 1,
   "metadata": {},
   "outputs": [],
   "source": [
    "import json\n",
    "import numpy as np\n",
    "import pandas as pd\n",
    "import matplotlib.pyplot as plt\n",
    "\n",
    "import tensorflow as tf\n",
    "from tensorflow.keras.preprocessing.text import Tokenizer\n",
    "from tensorflow.keras.preprocessing.sequence import pad_sequences\n",
    "from tensorflow.keras.models import Sequential\n",
    "from tensorflow.keras.layers import Dense, Embedding, LSTM, Conv1D, Dropout, SpatialDropout1D, MaxPooling1D, BatchNormalization, Activation\n",
    "\n",
    "import gensim.downloader as api\n",
    "from gensim.models import Word2Vec\n",
    "\n",
    "from sklearn.model_selection import train_test_split"
   ]
  },
  {
   "cell_type": "code",
   "execution_count": 2,
   "metadata": {},
   "outputs": [],
   "source": [
    "# Set constants\n",
    "\n",
    "PATH = \"data/\"\n",
    "# WORD2VEC_NAME = \"word2vec-google-news-300\"\n",
    "WORD2VEC_NAME = \"glove-twitter-50\"\n",
    "# NUM_FEATURES = 100\n",
    "# NUM_WORDS = 5000"
   ]
  },
  {
   "cell_type": "code",
   "execution_count": 3,
   "metadata": {},
   "outputs": [],
   "source": [
    "# Download Gensim data\n",
    "\n",
    "word2vec = api.load(WORD2VEC_NAME)\n",
    "# word2vec.save(PATH + WORD2VEC_NAME)"
   ]
  },
  {
   "cell_type": "code",
   "execution_count": 4,
   "metadata": {},
   "outputs": [],
   "source": [
    "# Load Gensim data from disk\n",
    "\n",
    "# word2vec = Word2Vec.load(PATH + WORD2VEC_NAME)"
   ]
  },
  {
   "cell_type": "code",
   "execution_count": 5,
   "metadata": {},
   "outputs": [
    {
     "name": "stdout",
     "output_type": "stream",
     "text": [
      "Retrieving article data from disk...\n",
      "                                          Article_Title  \\\n",
      "0     If anti-Sanders Democrats were serious, they’d...   \n",
      "1     The Japanese prime minister is going to Pearl ...   \n",
      "2     The best argument for each of the 2020 Democra...   \n",
      "3     Instagram found a new place to show you ads: I...   \n",
      "4                           My Week Without Apple Watch   \n",
      "...                                                 ...   \n",
      "6808  EpiPen Price Hikes Reportedly Added Millions T...   \n",
      "6809  The First Year Home May Be Most Dangerous For ...   \n",
      "6810  Mistakes That Fueled Ebola Spread Are Preventi...   \n",
      "6811              Taylor Spear's GPS Guide On Self Care   \n",
      "6812  Hacktivists Couldn't Have Pulled Off Cyber Att...   \n",
      "\n",
      "                                           Article_Text         Publish_Date  \\\n",
      "0     democrats opposed to sen bernie sanders want y...  2020-02-29 20:00:00   \n",
      "1     about six months ago president obama became th...  2016-12-27 14:20:01   \n",
      "2     share all sharing options for the best argumen...  2020-02-12 13:58:00   \n",
      "3     uncovering and explaining how our digital worl...  2017-01-11 09:05:01   \n",
      "4     a version of this essay was originally publish...  2015-07-08 11:58:00   \n",
      "...                                                 ...                  ...   \n",
      "6808  mylan nvs price hikes on epipens have added mi...  2016-10-28 10:30:52   \n",
      "6809  mivpiv via getty images according to a new stu...  2016-10-28 15:44:06   \n",
      "6810  by emma fargedakar march  reuters  lapses that...  2015-03-23 16:01:00   \n",
      "6811  feeling stressed youre not alone we all have a...  2016-02-24 17:02:14   \n",
      "6812  san francisco reuters  the perpetrators of the...  2016-02-24 14:38:38   \n",
      "\n",
      "            Source Language  Label  \n",
      "0          vox.com       en      0  \n",
      "1          vox.com       en      0  \n",
      "2          vox.com       en      0  \n",
      "3          vox.com       en      0  \n",
      "4          vox.com       en      0  \n",
      "...            ...      ...    ...  \n",
      "6808  huffpost.com       en      0  \n",
      "6809  huffpost.com       en      0  \n",
      "6810  huffpost.com       en      0  \n",
      "6811  huffpost.com       en      0  \n",
      "6812  huffpost.com       en      0  \n",
      "\n",
      "[6813 rows x 6 columns]\n"
     ]
    }
   ],
   "source": [
    "# Retrieve vocabulary from disk\n",
    "\n",
    "print(\"Retrieving article data from disk...\")\n",
    "dataset = pd.read_csv(PATH + \"dataset_clean.csv\")\n",
    "print(dataset)"
   ]
  },
  {
   "cell_type": "code",
   "execution_count": 6,
   "metadata": {},
   "outputs": [],
   "source": [
    "USE_GENSIM = True\n",
    "# NUM_WORDS = 20000\n",
    "MAX_SEQ_LEN = 500\n",
    "NUM_FEATURES = 50\n",
    "\n",
    "train, test = train_test_split(dataset)\n",
    "x_train = train.loc[:, \"Article_Text\"].values\n",
    "y_train = train.loc[:, \"Label\"].values\n",
    "x_test = test.loc[:, \"Article_Text\"].values\n",
    "y_test = test.loc[:, \"Label\"].values\n",
    "\n",
    "if USE_GENSIM:\n",
    "    # max_length = max([len(x.split()) for x in x_train])\n",
    "    max_length = MAX_SEQ_LEN\n",
    "    \n",
    "    tokenizer = Tokenizer()\n",
    "    tokenizer.fit_on_texts(x_train)\n",
    "    sequences = tokenizer.texts_to_sequences(x_train)\n",
    "    word_index = tokenizer.word_index\n",
    "    x_train_pad = pad_sequences(sequences, maxlen=max_length)\n",
    "\n",
    "    sequences_test = tokenizer.texts_to_sequences(x_test)\n",
    "    x_test_pad = pad_sequences(sequences_test, maxlen=max_length)\n",
    "\n",
    "    indices = np.arange(x_train_pad.shape[0])\n",
    "    np.random.shuffle(indices)\n",
    "    x_train_pad = x_train_pad[indices]\n",
    "    y_train = y_train[indices]\n",
    "\n",
    "    num_words = len(word_index) + 1\n",
    "    # num_words = NUM_WORDS\n",
    "    embedding_matrix = np.zeros((num_words, NUM_FEATURES))\n",
    "    for word, i in word_index.items():\n",
    "        if i > num_words or not word in word2vec.vocab:\n",
    "            continue\n",
    "        embedding_vector = word2vec[word]\n",
    "        if embedding_vector is not None:\n",
    "            embedding_matrix[i] = embedding_vector\n",
    "else:\n",
    "    # Tokenize data\n",
    "    print(\"Tokenizing data...\")\n",
    "    tokenizer = Tokenizer(num_words=NUM_WORDS)\n",
    "    total_x = np.concatenate((x_train, x_test))\n",
    "    tokenizer.fit_on_texts(total_x)\n",
    "    # print(tokenizer.word_index)\n",
    "\n",
    "    # Getting some hyperparameters\n",
    "    print(\"Getting hyperparameters (max_length and vocab_size)...\")\n",
    "#     max_length = max([len(x.split()) for x in total_x])\n",
    "    max_length = MAX_SEQ_LENGTH\n",
    "#     vocab_size = len(tokenizer.word_index) + 1\n",
    "    print(\"\\t\", \"max_length\", MAX_SEQ_LEN)\n",
    "    print(\"\\t\", \"vocab_size\", NUM_WORDS)\n",
    "\n",
    "    # Convert data to sequences\n",
    "    print(\"Converting data to sequences...\")\n",
    "    x_train_tokens = tokenizer.texts_to_sequences(x_train)\n",
    "    x_test_tokens = tokenizer.texts_to_sequences(x_test)\n",
    "    print(\"\\t\", \"x_train_tokens length\", len(x_train_tokens))\n",
    "    print(\"\\t\", \"x_test_tokens length\", len(x_test_tokens))\n",
    "\n",
    "    # Pad sequences\n",
    "    print(\"Padding sequences...\")\n",
    "    x_train_pad = pad_sequences(x_train_tokens, maxlen=max_length)\n",
    "    x_test_pad = pad_sequences(x_test_tokens, maxlen=max_length)\n",
    "    print(\"\\t\", \"x_train_pad shape\", x_train_pad.shape)\n",
    "    print(\"\\t\", \"x_test_pad shape\", x_test_pad.shape)\n",
    "    print(\"Done!\")"
   ]
  },
  {
   "cell_type": "code",
   "execution_count": 13,
   "metadata": {
    "scrolled": false
   },
   "outputs": [
    {
     "name": "stdout",
     "output_type": "stream",
     "text": [
      "Building the model...\n",
      "Model: \"sequential_3\"\n",
      "_________________________________________________________________\n",
      "Layer (type)                 Output Shape              Param #   \n",
      "=================================================================\n",
      "embedding_3 (Embedding)      (None, 500, 50)           5181550   \n",
      "_________________________________________________________________\n",
      "lstm_3 (LSTM)                (None, 128)               91648     \n",
      "_________________________________________________________________\n",
      "dense_3 (Dense)              (None, 1)                 129       \n",
      "=================================================================\n",
      "Total params: 5,273,327\n",
      "Trainable params: 91,777\n",
      "Non-trainable params: 5,181,550\n",
      "_________________________________________________________________\n",
      "None \n",
      "\n",
      "Training the model...\n",
      "Train for 160 steps, validate on 1704 samples\n",
      "Epoch 1/50\n",
      "160/160 [==============================] - 201s 1s/step - loss: 0.4443 - accuracy: 0.7630 - val_loss: 0.3275 - val_accuracy: 0.8339\n",
      "Epoch 2/50\n",
      "160/160 [==============================] - 193s 1s/step - loss: 0.3546 - accuracy: 0.8229 - val_loss: 0.3038 - val_accuracy: 0.8462\n",
      "Epoch 3/50\n",
      "160/160 [==============================] - 189s 1s/step - loss: 0.3184 - accuracy: 0.8456 - val_loss: 0.2725 - val_accuracy: 0.8638\n",
      "Epoch 4/50\n",
      "160/160 [==============================] - 190s 1s/step - loss: 0.2982 - accuracy: 0.8602 - val_loss: 0.2366 - val_accuracy: 0.8932\n",
      "Epoch 5/50\n",
      "160/160 [==============================] - 190s 1s/step - loss: 0.2847 - accuracy: 0.8620 - val_loss: 0.2146 - val_accuracy: 0.9114\n",
      "Epoch 6/50\n",
      "160/160 [==============================] - 191s 1s/step - loss: 0.2723 - accuracy: 0.8716 - val_loss: 0.2146 - val_accuracy: 0.9002\n",
      "Epoch 7/50\n",
      "160/160 [==============================] - 190s 1s/step - loss: 0.2553 - accuracy: 0.8788 - val_loss: 0.2138 - val_accuracy: 0.9008\n",
      "Epoch 8/50\n",
      "160/160 [==============================] - 190s 1s/step - loss: 0.2558 - accuracy: 0.8784 - val_loss: 0.2041 - val_accuracy: 0.9108\n",
      "Epoch 9/50\n",
      "160/160 [==============================] - 189s 1s/step - loss: 0.2481 - accuracy: 0.8867 - val_loss: 0.2020 - val_accuracy: 0.9014\n",
      "Epoch 10/50\n",
      "160/160 [==============================] - 190s 1s/step - loss: 0.2397 - accuracy: 0.8867 - val_loss: 0.1864 - val_accuracy: 0.9184\n",
      "Epoch 11/50\n",
      "160/160 [==============================] - 190s 1s/step - loss: 0.2366 - accuracy: 0.8900 - val_loss: 0.1875 - val_accuracy: 0.9190\n",
      "Epoch 12/50\n",
      "160/160 [==============================] - 191s 1s/step - loss: 0.2260 - accuracy: 0.8929 - val_loss: 0.1872 - val_accuracy: 0.9120\n",
      "Epoch 13/50\n",
      "160/160 [==============================] - 189s 1s/step - loss: 0.2263 - accuracy: 0.8937 - val_loss: 0.1806 - val_accuracy: 0.9149\n",
      "Epoch 14/50\n",
      "160/160 [==============================] - 189s 1s/step - loss: 0.2109 - accuracy: 0.9027 - val_loss: 0.1768 - val_accuracy: 0.9196\n",
      "Epoch 15/50\n",
      "160/160 [==============================] - 191s 1s/step - loss: 0.2198 - accuracy: 0.8978 - val_loss: 0.1809 - val_accuracy: 0.9184\n",
      "Epoch 16/50\n",
      "160/160 [==============================] - 190s 1s/step - loss: 0.2068 - accuracy: 0.9096 - val_loss: 0.1700 - val_accuracy: 0.9249\n",
      "Epoch 17/50\n",
      "160/160 [==============================] - 190s 1s/step - loss: 0.2031 - accuracy: 0.9107 - val_loss: 0.1682 - val_accuracy: 0.9219\n",
      "Epoch 18/50\n",
      "160/160 [==============================] - 190s 1s/step - loss: 0.1982 - accuracy: 0.9105 - val_loss: 0.1762 - val_accuracy: 0.9225\n",
      "Epoch 19/50\n",
      "160/160 [==============================] - 190s 1s/step - loss: 0.1935 - accuracy: 0.9102 - val_loss: 0.1627 - val_accuracy: 0.9225\n",
      "Epoch 20/50\n",
      "160/160 [==============================] - 190s 1s/step - loss: 0.1953 - accuracy: 0.9109 - val_loss: 0.1651 - val_accuracy: 0.9261\n",
      "Epoch 21/50\n",
      "160/160 [==============================] - 190s 1s/step - loss: 0.1999 - accuracy: 0.9113 - val_loss: 0.1617 - val_accuracy: 0.9296\n",
      "Epoch 22/50\n",
      "160/160 [==============================] - 190s 1s/step - loss: 0.1880 - accuracy: 0.9156 - val_loss: 0.1610 - val_accuracy: 0.9266\n",
      "Epoch 23/50\n",
      "160/160 [==============================] - 189s 1s/step - loss: 0.1826 - accuracy: 0.9176 - val_loss: 0.1566 - val_accuracy: 0.9278\n",
      "Epoch 24/50\n",
      "160/160 [==============================] - 190s 1s/step - loss: 0.1866 - accuracy: 0.9131 - val_loss: 0.1552 - val_accuracy: 0.9284\n",
      "Epoch 25/50\n",
      "160/160 [==============================] - 190s 1s/step - loss: 0.1788 - accuracy: 0.9211 - val_loss: 0.1576 - val_accuracy: 0.9308\n",
      "Epoch 26/50\n",
      "160/160 [==============================] - 190s 1s/step - loss: 0.1740 - accuracy: 0.9192 - val_loss: 0.1543 - val_accuracy: 0.9302\n",
      "Epoch 27/50\n",
      "160/160 [==============================] - 190s 1s/step - loss: 0.1700 - accuracy: 0.9258 - val_loss: 0.1549 - val_accuracy: 0.9290\n",
      "Epoch 28/50\n",
      "160/160 [==============================] - 190s 1s/step - loss: 0.1734 - accuracy: 0.9235 - val_loss: 0.1548 - val_accuracy: 0.9278\n",
      "Epoch 29/50\n",
      "160/160 [==============================] - 190s 1s/step - loss: 0.1661 - accuracy: 0.9252 - val_loss: 0.1649 - val_accuracy: 0.9219\n",
      "Epoch 30/50\n",
      "160/160 [==============================] - 190s 1s/step - loss: 0.1624 - accuracy: 0.9250 - val_loss: 0.1585 - val_accuracy: 0.9272\n",
      "Epoch 31/50\n",
      "160/160 [==============================] - 190s 1s/step - loss: 0.1645 - accuracy: 0.9274 - val_loss: 0.1551 - val_accuracy: 0.9266\n",
      "Epoch 32/50\n",
      "160/160 [==============================] - 190s 1s/step - loss: 0.1609 - accuracy: 0.9295 - val_loss: 0.1555 - val_accuracy: 0.9284\n",
      "Epoch 33/50\n",
      "160/160 [==============================] - 190s 1s/step - loss: 0.1662 - accuracy: 0.9252 - val_loss: 0.1617 - val_accuracy: 0.9255\n",
      "Epoch 34/50\n",
      "160/160 [==============================] - 190s 1s/step - loss: 0.1606 - accuracy: 0.9297 - val_loss: 0.1612 - val_accuracy: 0.9272\n",
      "Epoch 35/50\n",
      "160/160 [==============================] - 190s 1s/step - loss: 0.1505 - accuracy: 0.9383 - val_loss: 0.1562 - val_accuracy: 0.9255\n",
      "Epoch 36/50\n",
      "160/160 [==============================] - 190s 1s/step - loss: 0.1544 - accuracy: 0.9352 - val_loss: 0.1575 - val_accuracy: 0.9313\n",
      "Epoch 37/50\n",
      "160/160 [==============================] - 190s 1s/step - loss: 0.1482 - accuracy: 0.9346 - val_loss: 0.1588 - val_accuracy: 0.9296\n",
      "Epoch 38/50\n",
      "160/160 [==============================] - 190s 1s/step - loss: 0.1469 - accuracy: 0.9368 - val_loss: 0.1632 - val_accuracy: 0.9278\n",
      "Epoch 39/50\n",
      "160/160 [==============================] - 190s 1s/step - loss: 0.1524 - accuracy: 0.9340 - val_loss: 0.1601 - val_accuracy: 0.9302\n",
      "Epoch 40/50\n",
      "160/160 [==============================] - 191s 1s/step - loss: 0.1459 - accuracy: 0.9356 - val_loss: 0.1575 - val_accuracy: 0.9266\n",
      "Epoch 41/50\n",
      "160/160 [==============================] - 200s 1s/step - loss: 0.1462 - accuracy: 0.9360 - val_loss: 0.1554 - val_accuracy: 0.9272\n",
      "Epoch 42/50\n",
      "160/160 [==============================] - 198s 1s/step - loss: 0.1404 - accuracy: 0.9401 - val_loss: 0.1590 - val_accuracy: 0.9272\n",
      "Epoch 43/50\n",
      "160/160 [==============================] - 200s 1s/step - loss: 0.1456 - accuracy: 0.9338 - val_loss: 0.1570 - val_accuracy: 0.9319\n",
      "Epoch 44/50\n",
      "160/160 [==============================] - 200s 1s/step - loss: 0.1346 - accuracy: 0.9464 - val_loss: 0.1586 - val_accuracy: 0.9308\n",
      "Epoch 45/50\n",
      "160/160 [==============================] - 198s 1s/step - loss: 0.1368 - accuracy: 0.9383 - val_loss: 0.1595 - val_accuracy: 0.9308\n",
      "Epoch 46/50\n",
      "160/160 [==============================] - 198s 1s/step - loss: 0.1329 - accuracy: 0.9419 - val_loss: 0.1661 - val_accuracy: 0.9266\n",
      "Epoch 47/50\n",
      "160/160 [==============================] - 198s 1s/step - loss: 0.1291 - accuracy: 0.9442 - val_loss: 0.1602 - val_accuracy: 0.9284\n",
      "Epoch 48/50\n",
      "160/160 [==============================] - 198s 1s/step - loss: 0.1272 - accuracy: 0.9444 - val_loss: 0.1602 - val_accuracy: 0.9278\n",
      "Epoch 49/50\n",
      "160/160 [==============================] - 197s 1s/step - loss: 0.1329 - accuracy: 0.9407 - val_loss: 0.1646 - val_accuracy: 0.9290\n",
      "Epoch 50/50\n",
      "160/160 [==============================] - 199s 1s/step - loss: 0.1324 - accuracy: 0.9421 - val_loss: 0.1587 - val_accuracy: 0.9266\n",
      "Done\n"
     ]
    }
   ],
   "source": [
    "# Build and train the model\n",
    "\n",
    "# Set constants\n",
    "BATCH_SIZE = 32\n",
    "NUM_EPOCHS = 50\n",
    "VALIDATION_STEPS = 10\n",
    "\n",
    "# Batch and prefetch the dataset\n",
    "tf_dataset = tf.data.Dataset.from_tensor_slices((x_train_pad, y_train))\n",
    "tf_dataset = tf_dataset.batch(BATCH_SIZE)\n",
    "tf_dataset = tf_dataset.prefetch(tf.data.experimental.AUTOTUNE)\n",
    "\n",
    "# Build the model\n",
    "print(\"Building the model...\")\n",
    "model = Sequential()\n",
    "if USE_GENSIM:\n",
    "    model.add(Embedding(num_words,\n",
    "                        NUM_FEATURES,\n",
    "                        weights=[embedding_matrix],\n",
    "                        input_length=max_length,\n",
    "                        trainable=False))\n",
    "else:\n",
    "    model.add(Embedding(NUM_WORDS, NUM_FEATURES, input_length=x_train_pad.shape[1]))   \n",
    "    model.add(SpatialDropout1D(0.3))\n",
    "# model.add(Conv1D(128, 3, padding='valid', activation='relu'))\n",
    "# model.add(MaxPooling1D(pool_size=4))\n",
    "# model.add(Dropout(0.5))\n",
    "model.add(LSTM(128, dropout=0.5, recurrent_dropout=0.5))\n",
    "model.add(Dense(1, activation='sigmoid'))\n",
    "model.compile(loss='binary_crossentropy', optimizer='adam', metrics=['accuracy'])\n",
    "print(model.summary(), \"\\n\")\n",
    "\n",
    "# Train the model\n",
    "print(\"Training the model...\")\n",
    "history = model.fit(tf_dataset,\n",
    "                    epochs=NUM_EPOCHS,\n",
    "                    validation_data=(x_test_pad, y_test),\n",
    "                    validation_steps=VALIDATION_STEPS)\n",
    "# history = model.fit(x_train_pad, y_train, batch_size=BATCH_SIZE, epochs=NUM_EPOCHS, validation_data=(x_test_pad, y_test))\n",
    "print(\"Done\")"
   ]
  },
  {
   "cell_type": "code",
   "execution_count": 14,
   "metadata": {
    "scrolled": false
   },
   "outputs": [
    {
     "name": "stdout",
     "output_type": "stream",
     "text": [
      "Final Training Accuracy: 94.21%\n",
      "Final Validation Accuracy: 92.66%\n"
     ]
    },
    {
     "data": {
      "image/png": "[encoded data removed]",
      "text/plain": [
       "<Figure size 432x288 with 1 Axes>"
      ]
     },
     "metadata": {
      "needs_background": "light"
     },
     "output_type": "display_data"
    }
   ],
   "source": [
    "  # Graph the model history\n",
    "\n",
    "print(\"Final Training Accuracy:\", str(round(history.history['accuracy'][-1] * 100, 2)) + \"%\")\n",
    "print(\"Final Validation Accuracy:\", str(round(history.history['val_accuracy'][-1] * 100, 2)) + \"%\")\n",
    "plt.plot(history.history['accuracy'], color='blue')\n",
    "plt.plot(history.history['val_accuracy'], color='green')\n",
    "plt.title('Training vs. Validation Accuracy')\n",
    "plt.ylabel('Accuracy')\n",
    "plt.xlabel('Epoch')\n",
    "plt.legend(['Training', 'Validation'], loc='upper left')\n",
    "plt.show()"
   ]
  },
  {
   "cell_type": "code",
   "execution_count": 21,
   "metadata": {},
   "outputs": [
    {
     "name": "stdout",
     "output_type": "stream",
     "text": [
      "Final Training Loss: 13.23%\n",
      "Final Validation Loss: 15.87%\n",
      "Final Training Loss: 13.23%\n",
      "Final Validation Loss: 15.87%\n"
     ]
    },
    {
     "data": {
      "image/png": "[encoded data removed]",
      "text/plain": [
       "<Figure size 432x288 with 1 Axes>"
      ]
     },
     "metadata": {
      "needs_background": "light"
     },
     "output_type": "display_data"
    },
    {
     "data": {
      "image/png": "[encoded data removed]",
      "text/plain": [
       "<Figure size 432x288 with 1 Axes>"
      ]
     },
     "metadata": {
      "needs_background": "light"
     },
     "output_type": "display_data"
    }
   ],
   "source": [
    "print(\"Final Training Loss:\", str(round(history.history['loss'][-1] * 100, 2)) + \"%\")\n",
    "print(\"Final Validation Loss:\", str(round(history.history['val_loss'][-1] * 100, 2)) + \"%\")\n",
    "plt.plot(history.history['loss'], color='blue')\n",
    "plt.plot(history.history['val_loss'], color='green')\n",
    "plt.title('Training vs. Validation Loss')\n",
    "plt.ylabel('Loss')\n",
    "plt.xlabel('Epoch')\n",
    "plt.legend(['Training', 'Validation'], loc='upper left')\n",
    "plt.show()"
   ]
  },
  {
   "cell_type": "code",
   "execution_count": 15,
   "metadata": {},
   "outputs": [
    {
     "name": "stdout",
     "output_type": "stream",
     "text": [
      "1704/1704 [==============================] - 11s 7ms/sample - loss: 0.1587 - accuracy: 0.9266\n",
      "Test score: 0.15873657898024215\n",
      "Test accuracy: 0.9266432\n"
     ]
    }
   ],
   "source": [
    "# Evaluate the model\n",
    "\n",
    "score, acc = model.evaluate(x_test_pad, y_test, batch_size=BATCH_SIZE)\n",
    "print('Test score:', score)\n",
    "print('Test accuracy:', acc)"
   ]
  },
  {
   "cell_type": "code",
   "execution_count": null,
   "metadata": {},
   "outputs": [],
   "source": []
  }
 ],
 "metadata": {
  "kernelspec": {
   "display_name": "Python 3",
   "language": "python",
   "name": "python3"
  },
  "language_info": {
   "codemirror_mode": {
    "name": "ipython",
    "version": 3
   },
   "file_extension": ".py",
   "mimetype": "text/x-python",
   "name": "python",
   "nbconvert_exporter": "python",
   "pygments_lexer": "ipython3",
   "version": "3.6.10"
  }
 },
 "nbformat": 4,
 "nbformat_minor": 4
}
