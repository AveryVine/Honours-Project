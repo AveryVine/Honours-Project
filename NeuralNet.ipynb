{
 "cells": [
  {
   "cell_type": "code",
   "execution_count": 1,
   "metadata": {},
   "outputs": [],
   "source": [
    "import json\n",
    "import numpy as np\n",
    "import pandas as pd\n",
    "import matplotlib.pyplot as plt\n",
    "\n",
    "import tensorflow as tf\n",
    "from tensorflow.keras.preprocessing.text import Tokenizer\n",
    "from tensorflow.keras.preprocessing.sequence import pad_sequences\n",
    "from tensorflow.keras.models import Sequential\n",
    "from tensorflow.keras.layers import Dense, Embedding, LSTM, Conv1D, Dropout, SpatialDropout1D, MaxPooling1D, BatchNormalization, Activation, Bidirectional\n",
    "\n",
    "import gensim.downloader as api\n",
    "from gensim.models import Word2Vec\n",
    "\n",
    "from sklearn.model_selection import train_test_split"
   ]
  },
  {
   "cell_type": "code",
   "execution_count": 32,
   "metadata": {},
   "outputs": [],
   "source": [
    "# Set constants\n",
    "\n",
    "PATH = \"data/\"\n",
    "# WORD2VEC_NAME = \"word2vec-google-news-300\"\n",
    "WORD2VEC_NAME = \"glove-twitter-50\"\n",
    "# NUM_FEATURES = 100\n",
    "# NUM_WORDS = 5000"
   ]
  },
  {
   "cell_type": "code",
   "execution_count": null,
   "metadata": {},
   "outputs": [],
   "source": [
    "# Download Gensim data\n",
    "\n",
    "word2vec = api.load(WORD2VEC_NAME)\n",
    "# word2vec.save(PATH + WORD2VEC_NAME)"
   ]
  },
  {
   "cell_type": "code",
   "execution_count": null,
   "metadata": {},
   "outputs": [],
   "source": [
    "# Load Gensim data from disk\n",
    "\n",
    "# word2vec = Word2Vec.load(PATH + WORD2VEC_NAME)"
   ]
  },
  {
   "cell_type": "code",
   "execution_count": null,
   "metadata": {},
   "outputs": [],
   "source": [
    "# Retrieve vocabulary from disk\n",
    "\n",
    "print(\"Retrieving article data from disk...\")\n",
    "dataset = pd.read_csv(PATH + \"dataset_clean.csv\")\n",
    "print(dataset)"
   ]
  },
  {
   "cell_type": "code",
   "execution_count": null,
   "metadata": {},
   "outputs": [],
   "source": [
    "USE_GENSIM = True\n",
    "# NUM_WORDS = 20000\n",
    "MAX_SEQ_LEN = 500\n",
    "NUM_FEATURES = 50\n",
    "\n",
    "train, test = train_test_split(dataset)\n",
    "x_train = train.loc[:, \"Article_Text\"].values\n",
    "y_train = train.loc[:, \"Label\"].values\n",
    "x_test = test.loc[:, \"Article_Text\"].values\n",
    "y_test = test.loc[:, \"Label\"].values\n",
    "\n",
    "if USE_GENSIM:\n",
    "    # max_length = max([len(x.split()) for x in x_train])\n",
    "    max_length = MAX_SEQ_LEN\n",
    "    \n",
    "    tokenizer = Tokenizer()\n",
    "    tokenizer.fit_on_texts(x_train)\n",
    "    print(x_train[0])\n",
    "    sequences = tokenizer.texts_to_sequences(x_train)\n",
    "    print(sequences[0])\n",
    "    word_index = tokenizer.word_index\n",
    "    x_train_pad = pad_sequences(sequences, maxlen=max_length)\n",
    "\n",
    "    sequences_test = tokenizer.texts_to_sequences(x_test)\n",
    "    x_test_pad = pad_sequences(sequences_test, maxlen=max_length)\n",
    "\n",
    "    indices = np.arange(x_train_pad.shape[0])\n",
    "    np.random.shuffle(indices)\n",
    "    x_train_pad = x_train_pad[indices]\n",
    "    y_train = y_train[indices]\n",
    "\n",
    "    num_words = len(word_index) + 1\n",
    "    # num_words = NUM_WORDS\n",
    "    embedding_matrix = np.zeros((num_words, NUM_FEATURES))\n",
    "    for word, i in word_index.items():\n",
    "        if i > num_words or not word in word2vec.vocab:\n",
    "            continue\n",
    "        embedding_vector = word2vec[word]\n",
    "        if embedding_vector is not None:\n",
    "            embedding_matrix[i] = embedding_vector\n",
    "else:\n",
    "    # Tokenize data\n",
    "    print(\"Tokenizing data...\")\n",
    "    tokenizer = Tokenizer(num_words=NUM_WORDS)\n",
    "    total_x = np.concatenate((x_train, x_test))\n",
    "    tokenizer.fit_on_texts(total_x)\n",
    "    # print(tokenizer.word_index)\n",
    "\n",
    "    # Getting some hyperparameters\n",
    "    print(\"Getting hyperparameters (max_length and vocab_size)...\")\n",
    "#     max_length = max([len(x.split()) for x in total_x])\n",
    "    max_length = MAX_SEQ_LENGTH\n",
    "#     vocab_size = len(tokenizer.word_index) + 1\n",
    "    print(\"\\t\", \"max_length\", MAX_SEQ_LEN)\n",
    "    print(\"\\t\", \"vocab_size\", NUM_WORDS)\n",
    "\n",
    "    # Convert data to sequences\n",
    "    print(\"Converting data to sequences...\")\n",
    "    x_train_tokens = tokenizer.texts_to_sequences(x_train)\n",
    "    x_test_tokens = tokenizer.texts_to_sequences(x_test)\n",
    "    print(\"\\t\", \"x_train_tokens length\", len(x_train_tokens))\n",
    "    print(\"\\t\", \"x_test_tokens length\", len(x_test_tokens))\n",
    "\n",
    "    # Pad sequences\n",
    "    print(\"Padding sequences...\")\n",
    "    x_train_pad = pad_sequences(x_train_tokens, maxlen=max_length)\n",
    "    x_test_pad = pad_sequences(x_test_tokens, maxlen=max_length)\n",
    "    print(\"\\t\", \"x_train_pad shape\", x_train_pad.shape)\n",
    "    print(\"\\t\", \"x_test_pad shape\", x_test_pad.shape)\n",
    "    print(\"Done!\")"
   ]
  },
  {
   "cell_type": "code",
   "execution_count": null,
   "metadata": {
    "scrolled": false
   },
   "outputs": [],
   "source": [
    "# Build and train the model\n",
    "\n",
    "# Set constants\n",
    "BATCH_SIZE = 32\n",
    "NUM_EPOCHS = 50\n",
    "VALIDATION_STEPS = 10\n",
    "\n",
    "# Batch and prefetch the dataset\n",
    "tf_dataset = tf.data.Dataset.from_tensor_slices((x_train_pad, y_train))\n",
    "tf_dataset = tf_dataset.batch(BATCH_SIZE)\n",
    "tf_dataset = tf_dataset.prefetch(tf.data.experimental.AUTOTUNE)\n",
    "\n",
    "# Build the model\n",
    "print(\"Building the model...\")\n",
    "model = Sequential()\n",
    "if USE_GENSIM:\n",
    "    model.add(Embedding(num_words,\n",
    "                        NUM_FEATURES,\n",
    "                        weights=[embedding_matrix],\n",
    "                        input_length=max_length,\n",
    "                        trainable=False))\n",
    "else:\n",
    "    model.add(Embedding(NUM_WORDS, NUM_FEATURES, input_length=x_train_pad.shape[1]))   \n",
    "    model.add(SpatialDropout1D(0.3))\n",
    "# model.add(Conv1D(128, 3, padding='valid', activation='relu'))\n",
    "# model.add(MaxPooling1D(pool_size=2))\n",
    "# model.add(Dropout(0.5))\n",
    "model.add(Bidirectional(LSTM(128, dropout=0.5, recurrent_dropout=0.5)))\n",
    "model.add(Dense(1, activation='sigmoid'))\n",
    "model.compile(loss='binary_crossentropy', optimizer='adam', metrics=['accuracy'])\n",
    "print(model.summary(), \"\\n\")\n",
    "\n",
    "# Train the model\n",
    "print(\"Training the model...\")\n",
    "history = model.fit(tf_dataset,\n",
    "                    epochs=NUM_EPOCHS,\n",
    "                    validation_data=(x_test_pad, y_test),\n",
    "                    validation_steps=VALIDATION_STEPS)\n",
    "# history = model.fit(x_train_pad, y_train, batch_size=BATCH_SIZE, epochs=NUM_EPOCHS, validation_data=(x_test_pad, y_test))\n",
    "print(\"Done\")"
   ]
  },
  {
   "cell_type": "code",
   "execution_count": null,
   "metadata": {
    "scrolled": false
   },
   "outputs": [],
   "source": [
    "  # Graph the model history\n",
    "\n",
    "print(\"Final Training Accuracy:\", str(round(history.history['accuracy'][-1] * 100, 2)) + \"%\")\n",
    "print(\"Final Validation Accuracy:\", str(round(history.history['val_accuracy'][-1] * 100, 2)) + \"%\")\n",
    "plt.plot(history.history['accuracy'], color='blue')\n",
    "plt.plot(history.history['val_accuracy'], color='green')\n",
    "plt.title('Training vs. Validation Accuracy')\n",
    "plt.ylabel('Accuracy')\n",
    "plt.xlabel('Epoch')\n",
    "plt.legend(['Training', 'Validation'], loc='upper left')\n",
    "plt.show()"
   ]
  },
  {
   "cell_type": "code",
   "execution_count": null,
   "metadata": {},
   "outputs": [],
   "source": [
    "print(\"Final Training Loss:\", str(round(history.history['loss'][-1] * 100, 2)) + \"%\")\n",
    "print(\"Final Validation Loss:\", str(round(history.history['val_loss'][-1] * 100, 2)) + \"%\")\n",
    "plt.plot(history.history['loss'], color='blue')\n",
    "plt.plot(history.history['val_loss'], color='green')\n",
    "plt.title('Training vs. Validation Loss')\n",
    "plt.ylabel('Loss')\n",
    "plt.xlabel('Epoch')\n",
    "plt.legend(['Training', 'Validation'], loc='upper left')\n",
    "plt.show()"
   ]
  },
  {
   "cell_type": "code",
   "execution_count": 15,
   "metadata": {},
   "outputs": [
    {
     "name": "stdout",
     "output_type": "stream",
     "text": [
      "1704/1704 [==============================] - 11s 7ms/sample - loss: 0.1587 - accuracy: 0.9266\n",
      "Test score: 0.15873657898024215\n",
      "Test accuracy: 0.9266432\n"
     ]
    }
   ],
   "source": [
    "# Evaluate the model\n",
    "\n",
    "score, acc = model.evaluate(x_test_pad, y_test, batch_size=BATCH_SIZE)\n",
    "print('Test score:', score)\n",
    "print('Test accuracy:', acc)"
   ]
  },
  {
   "cell_type": "code",
   "execution_count": null,
   "metadata": {},
   "outputs": [],
   "source": []
  }
 ],
 "metadata": {
  "kernelspec": {
   "display_name": "Python 3",
   "language": "python",
   "name": "python3"
  },
  "language_info": {
   "codemirror_mode": {
    "name": "ipython",
    "version": 3
   },
   "file_extension": ".py",
   "mimetype": "text/x-python",
   "name": "python",
   "nbconvert_exporter": "python",
   "pygments_lexer": "ipython3",
   "version": "3.6.10"
  }
 },
 "nbformat": 4,
 "nbformat_minor": 4
}
